{
 "cells": [
  {
   "cell_type": "markdown",
   "metadata": {},
   "source": [
    "<h3>Predictors of Non-Voters in the United States</h3>"
   ]
  },
  {
   "cell_type": "markdown",
   "metadata": {},
   "source": [
    "To-do:\n",
    "* get accuracy rate for each method\n",
    "* use toy data (iris) to prove our method works\n",
    "* write up paper"
   ]
  },
  {
   "cell_type": "markdown",
   "metadata": {},
   "source": []
  },
  {
   "cell_type": "code",
   "execution_count": 1,
   "metadata": {},
   "outputs": [],
   "source": [
    "import pandas as pd\n",
    "import numpy as np \n",
    "from sklearn.model_selection import train_test_split\n",
    "from numpy import linalg as la\n",
    "import matplotlib.pyplot as plt\n",
    "import math"
   ]
  },
  {
   "cell_type": "code",
   "execution_count": 2,
   "metadata": {},
   "outputs": [],
   "source": [
    "df = pd.read_csv('no_voter_data.csv')"
   ]
  },
  {
   "cell_type": "markdown",
   "metadata": {},
   "source": [
    "<h4>Data Cleaning and Manipulation"
   ]
  },
  {
   "cell_type": "code",
   "execution_count": 3,
   "metadata": {},
   "outputs": [],
   "source": [
    "# create necessary columns for race \n",
    "df['white'] = np.where(df['race'] == 'White', 1, 0)\n",
    "df['black'] = np.where(df['race'] == 'Black', 1, 0)\n",
    "df['other/mixed'] = np.where(df['race'] == 'Other/Mixed', 1, 0)\n",
    "df['hispanic'] = np.where(df['race'] == 'Hispanic', 1, 0)"
   ]
  },
  {
   "cell_type": "code",
   "execution_count": 4,
   "metadata": {},
   "outputs": [],
   "source": [
    "# gender \n",
    "df['gender'] = np.where(df['gender'] == 'Female', 1, 0)"
   ]
  },
  {
   "cell_type": "code",
   "execution_count": 5,
   "metadata": {},
   "outputs": [],
   "source": [
    "# income category\n",
    "new_label = {\"income_cat\": {\"Less than $40k\":1, \n",
    "            \"$40-75k\":2, \n",
    "            \"$75-125k\":3,\n",
    "            \"$125k or more\":4}}\n",
    "df.replace(new_label, inplace = True)"
   ]
  },
  {
   "cell_type": "code",
   "execution_count": 6,
   "metadata": {},
   "outputs": [],
   "source": [
    "# education category\n",
    "new_label = {\"educ\": {\"High school or less\":1, \n",
    "            \"Some college\":2, \n",
    "            \"College\":3}}\n",
    "df.replace(new_label, inplace = True)"
   ]
  },
  {
   "cell_type": "code",
   "execution_count": 7,
   "metadata": {},
   "outputs": [],
   "source": [
    "# voter category data manipulations\n",
    "new_label = {\"voter_category\": {\"always\":3, \"sporadic\":2, \"rarely/never\":1}}\n",
    "df.replace(new_label, inplace = True)"
   ]
  },
  {
   "cell_type": "code",
   "execution_count": 8,
   "metadata": {},
   "outputs": [],
   "source": [
    "# drop\n",
    "df = df.drop([\"race\", \"RespId\", \"weight\"], axis=1)\n",
    "\n",
    "# fill NA's \n",
    "df_2 = df.fillna(0)"
   ]
  },
  {
   "cell_type": "code",
   "execution_count": 9,
   "metadata": {},
   "outputs": [],
   "source": [
    "y = df_2[\"voter_category\"]\n",
    "X = df_2.drop(\"voter_category\", axis=1)"
   ]
  },
  {
   "cell_type": "code",
   "execution_count": 17,
   "metadata": {},
   "outputs": [
    {
     "data": {
      "text/plain": [
       "2    2574\n",
       "3    1811\n",
       "1    1451\n",
       "Name: voter_category, dtype: int64"
      ]
     },
     "execution_count": 17,
     "metadata": {},
     "output_type": "execute_result"
    }
   ],
   "source": [
    "y.value_counts()"
   ]
  },
  {
   "cell_type": "markdown",
   "metadata": {},
   "source": [
    "<h4>Create train and test data & create function to calculate accuracy"
   ]
  },
  {
   "cell_type": "code",
   "execution_count": 10,
   "metadata": {},
   "outputs": [],
   "source": [
    "X_train, X_test, y_train, y_test = train_test_split(X, y, test_size=0.2, random_state=42)"
   ]
  },
  {
   "cell_type": "code",
   "execution_count": 11,
   "metadata": {},
   "outputs": [],
   "source": [
    "# calculate accuracy all methods\n",
    "def accuracy(y_hat, y_test):\n",
    "    return np.mean(y_hat==y_test)"
   ]
  },
  {
   "cell_type": "markdown",
   "metadata": {},
   "source": [
    "<h4> Method 1: Truncated SVD"
   ]
  },
  {
   "cell_type": "code",
   "execution_count": 11,
   "metadata": {},
   "outputs": [],
   "source": [
    "# Truncated SVD\n",
    "# use different # of cols and find which # minimizes error\n",
    "def truncated_svd(X, y):\n",
    "    svd_errors = []\n",
    "    w_hats_svd = []\n",
    "    _, p = X.shape\n",
    "    u, s, vt = la.svd(X)\n",
    "    sigma = np.zeros(X.shape)\n",
    "    sigma1 = sigma.copy()\n",
    "\n",
    "    for i in range(p):\n",
    "        s1 = s[:i+1]\n",
    "        np.fill_diagonal(sigma, np.append(s1, np.zeros(p - i + 1)))\n",
    "        sigma_inv = la.pinv(sigma)\n",
    "        w_hat_svd = vt.T@sigma_inv@u.T@y\n",
    "        w_hats_svd.append(w_hat_svd)\n",
    "        y_hat_svd = X@w_hat_svd\n",
    "        svd_errors.append(np.mean(y - y_hat_svd)**2)\n",
    "\n",
    "    best_param_svd = svd_errors.index(min(svd_errors))\n",
    "    return best_param_svd, w_hats_svd[best_param_svd]"
   ]
  },
  {
   "cell_type": "code",
   "execution_count": 12,
   "metadata": {},
   "outputs": [],
   "source": [
    "svd_best_num_col, svd_whats = truncated_svd(X_train, y_train)"
   ]
  },
  {
   "cell_type": "code",
   "execution_count": 23,
   "metadata": {},
   "outputs": [],
   "source": [
    "y_hat_svd = np.rint(X_test @ svd_whats)"
   ]
  },
  {
   "cell_type": "code",
   "execution_count": 24,
   "metadata": {},
   "outputs": [
    {
     "data": {
      "text/plain": [
       "0.5847602739726028"
      ]
     },
     "execution_count": 24,
     "metadata": {},
     "output_type": "execute_result"
    }
   ],
   "source": [
    "accuracy(y_hat_svd, y_test)"
   ]
  },
  {
   "cell_type": "code",
   "execution_count": 77,
   "metadata": {},
   "outputs": [
    {
     "data": {
      "text/plain": [
       "117"
      ]
     },
     "execution_count": 77,
     "metadata": {},
     "output_type": "execute_result"
    }
   ],
   "source": [
    "svd_best_num_col"
   ]
  },
  {
   "cell_type": "markdown",
   "metadata": {},
   "source": [
    "<h4> Method 2: Ridge Regression"
   ]
  },
  {
   "cell_type": "code",
   "execution_count": 23,
   "metadata": {},
   "outputs": [],
   "source": [
    "# Ridge Regression\n",
    "def rls(X, y, lambda_vals):\n",
    "    \n",
    "    #### RLS ####\n",
    "    w_hat_lst = []\n",
    "    errors_lst = []\n",
    "    u, s, vt = la.svd(X)\n",
    "    sigma = np.zeros(X.shape) # n x p\n",
    "    sigma1 = sigma.copy() #creating copy \n",
    "    np.fill_diagonal(sigma1, s)\n",
    "            \n",
    "    for l, val in enumerate(lambda_vals):\n",
    "        w_hat = la.inv(vt.T@sigma1.T@sigma1@vt + val)@vt.T@sigma1.T@u.T@y\n",
    "        w_hat_lst.append(w_hat)\n",
    "\n",
    "        y_tilde = X@w_hat\n",
    "        error = np.mean((y_tilde - y)**2)\n",
    "        errors_lst.append(error)\n",
    "\n",
    "    best_param_index = errors_lst.index(min(errors_lst))\n",
    "    best_w = w_hat_lst[best_param_index]\n",
    "    best_lambda = lambda_vals[best_param_index]\n",
    "    return best_lambda, best_w \n"
   ]
  },
  {
   "cell_type": "code",
   "execution_count": 44,
   "metadata": {},
   "outputs": [],
   "source": [
    "lambda_vals = np.array([0, 0.001, 0.01, 0.1, 0.5, 1, 2, 4, 8, 16, 32, 64])\n",
    "\n",
    "rls_best_lambda, rls_whats = rls(X, y, lambda_vals)"
   ]
  },
  {
   "cell_type": "code",
   "execution_count": 46,
   "metadata": {},
   "outputs": [
    {
     "data": {
      "text/plain": [
       "array([ 83,  58,  60,  82,  39, 116, 115, 118, 117,   0])"
      ]
     },
     "execution_count": 46,
     "metadata": {},
     "output_type": "execute_result"
    }
   ],
   "source": [
    "rls_whats_abs = abs(rls_whats)\n",
    "ind = np.argpartition(rls_whats_abs, -10)[-10:]\n",
    "ind"
   ]
  },
  {
   "cell_type": "code",
   "execution_count": 47,
   "metadata": {},
   "outputs": [
    {
     "data": {
      "text/plain": [
       "Index(['Q27_1', 'Q18_3', 'Q18_5', 'Q26', 'Q10_1', 'black', 'white', 'hispanic',\n",
       "       'other/mixed', 'Q1'],\n",
       "      dtype='object')"
      ]
     },
     "execution_count": 47,
     "metadata": {},
     "output_type": "execute_result"
    }
   ],
   "source": [
    "#df.iloc[:, 83]\n",
    "df_new = X.iloc[:,ind]\n",
    "df_new.columns"
   ]
  },
  {
   "cell_type": "code",
   "execution_count": 48,
   "metadata": {},
   "outputs": [
    {
     "data": {
      "text/plain": [
       "array([-0.07999981,  0.09917155, -0.10710976, -0.22806724,  0.10853891,\n",
       "       -0.54468174, -0.56438447, -0.57507917, -0.65946731,  2.12527411])"
      ]
     },
     "execution_count": 48,
     "metadata": {},
     "output_type": "execute_result"
    }
   ],
   "source": [
    "rls_whats[ind]"
   ]
  },
  {
   "cell_type": "code",
   "execution_count": 29,
   "metadata": {},
   "outputs": [
    {
     "name": "stdout",
     "output_type": "stream",
     "text": [
      "0.5976027397260274\n",
      "0.001\n"
     ]
    }
   ],
   "source": [
    "y_hat_rls = np.rint(X_test @ rls_whats)\n",
    "print(accuracy(y_hat_rls, y_test))\n",
    "print(rls_best_lambda)"
   ]
  },
  {
   "cell_type": "markdown",
   "metadata": {},
   "source": [
    "<h4> Method 3: Principal Component Analysis"
   ]
  },
  {
   "cell_type": "code",
   "execution_count": 50,
   "metadata": {},
   "outputs": [
    {
     "data": {
      "image/png": "[encoded data removed]",
      "text/plain": [
       "<Figure size 864x432 with 1 Axes>"
      ]
     },
     "metadata": {
      "needs_background": "light"
     },
     "output_type": "display_data"
    }
   ],
   "source": [
    "# PCA\n",
    "u,s,vh = np.linalg.svd(X_train ,full_matrices=False)\n",
    "\n",
    "fig, ax = plt.subplots(nrows=1, ncols=1, figsize=(12,6))\n",
    "ax.plot(range(1,s.shape[0]+1), s, color=\"steelblue\", label='sigmas')\n",
    "ax.set_xlabel(\"sigma_index\", fontsize=16)\n",
    "ax.set_ylabel(\"value\", fontsize=16)\n",
    "plt.show()\n",
    "fig.savefig(\"pca_sigmas.png\")\n",
    "\n",
    "# first 3 sigmas seem to be the most important; we will solve for 4 principle components! "
   ]
  },
  {
   "cell_type": "code",
   "execution_count": 51,
   "metadata": {},
   "outputs": [],
   "source": [
    "# calculate principal components\n",
    "train_acc_lst = []\n",
    "test_acc_lst = []\n",
    "for i in range(1, s.shape[0]+1):\n",
    "    pc = X_train@vh[:i,:].T\n",
    "    z3 = pc\n",
    "\n",
    "    # use 3 PC to compute least sqaures \n",
    "    w = np.linalg.inv(z3.T@z3)@z3.T@y_train\n",
    "    y_pred = np.rint(z3@w)\n",
    "    acc_train = accuracy(y_pred, y_train)\n",
    "    train_acc_lst.append(acc_train)\n",
    "\n",
    "    # test data\n",
    "    z_test = vh[:i, :] @ X_test.T\n",
    "    y_pred_test = np.rint(z_test.T@w)\n",
    "    acc_test = accuracy(y_pred_test, y_test)\n",
    "    test_acc_lst.append(acc_test)"
   ]
  },
  {
   "cell_type": "code",
   "execution_count": 52,
   "metadata": {},
   "outputs": [
    {
     "data": {
      "image/png": "[encoded data removed]",
      "text/plain": [
       "<Figure size 864x432 with 1 Axes>"
      ]
     },
     "metadata": {
      "needs_background": "light"
     },
     "output_type": "display_data"
    }
   ],
   "source": [
    "fig2, ax = plt.subplots(nrows=1, ncols=1, figsize=(12,6))\n",
    "ax.plot(range(1,s.shape[0]+1), train_acc_lst, color=\"steelblue\", label='train_accuracy')\n",
    "ax.plot(range(1,s.shape[0]+1), test_acc_lst, color=\"red\", label='test_accuracy')\n",
    "ax.set_xlabel(\"number of dimensions\", fontsize=16)\n",
    "ax.set_ylabel(\"accuracy rate\", fontsize=16)\n",
    "ax.legend(loc=\"lower right\", fontsize=16)\n",
    "plt.show()\n",
    "fig2.savefig(\"pca_train_test_acc.png\")"
   ]
  },
  {
   "cell_type": "code",
   "execution_count": 75,
   "metadata": {},
   "outputs": [
    {
     "data": {
      "text/plain": [
       "[0.4965753424657534,\n",
       " 0.4460616438356164,\n",
       " 0.4469178082191781,\n",
       " 0.5419520547945206,\n",
       " 0.5419520547945206,\n",
       " 0.5470890410958904,\n",
       " 0.5539383561643836,\n",
       " 0.5616438356164384,\n",
       " 0.5633561643835616,\n",
       " 0.5590753424657534,\n",
       " 0.5547945205479452,\n",
       " 0.5582191780821918,\n",
       " 0.5659246575342466,\n",
       " 0.5633561643835616,\n",
       " 0.5684931506849316,\n",
       " 0.5761986301369864,\n",
       " 0.5761986301369864,\n",
       " 0.5779109589041096,\n",
       " 0.5787671232876712,\n",
       " 0.577054794520548,\n",
       " 0.5830479452054794,\n",
       " 0.586472602739726,\n",
       " 0.586472602739726,\n",
       " 0.5830479452054794,\n",
       " 0.5873287671232876,\n",
       " 0.5856164383561644,\n",
       " 0.5830479452054794,\n",
       " 0.583904109589041,\n",
       " 0.5873287671232876,\n",
       " 0.5873287671232876,\n",
       " 0.5847602739726028,\n",
       " 0.5847602739726028,\n",
       " 0.5813356164383562,\n",
       " 0.5830479452054794,\n",
       " 0.5813356164383562,\n",
       " 0.5821917808219178,\n",
       " 0.5847602739726028,\n",
       " 0.5804794520547946,\n",
       " 0.5830479452054794,\n",
       " 0.5804794520547946,\n",
       " 0.5916095890410958,\n",
       " 0.5856164383561644,\n",
       " 0.5873287671232876,\n",
       " 0.586472602739726,\n",
       " 0.5907534246575342,\n",
       " 0.5847602739726028,\n",
       " 0.5873287671232876,\n",
       " 0.5873287671232876,\n",
       " 0.5924657534246576,\n",
       " 0.5933219178082192,\n",
       " 0.5916095890410958,\n",
       " 0.5907534246575342,\n",
       " 0.5916095890410958,\n",
       " 0.5933219178082192,\n",
       " 0.5898972602739726,\n",
       " 0.5924657534246576,\n",
       " 0.5924657534246576,\n",
       " 0.5976027397260274,\n",
       " 0.598458904109589,\n",
       " 0.5958904109589042,\n",
       " 0.5967465753424658,\n",
       " 0.6027397260273972,\n",
       " 0.6027397260273972,\n",
       " 0.5976027397260274,\n",
       " 0.586472602739726,\n",
       " 0.5881849315068494,\n",
       " 0.589041095890411,\n",
       " 0.5907534246575342,\n",
       " 0.5916095890410958,\n",
       " 0.5976027397260274,\n",
       " 0.5941780821917808,\n",
       " 0.5873287671232876,\n",
       " 0.5881849315068494,\n",
       " 0.5873287671232876,\n",
       " 0.586472602739726,\n",
       " 0.5881849315068494,\n",
       " 0.5873287671232876,\n",
       " 0.5881849315068494,\n",
       " 0.5881849315068494,\n",
       " 0.5873287671232876,\n",
       " 0.586472602739726,\n",
       " 0.5847602739726028,\n",
       " 0.5856164383561644,\n",
       " 0.5856164383561644,\n",
       " 0.5830479452054794,\n",
       " 0.5830479452054794,\n",
       " 0.5881849315068494,\n",
       " 0.586472602739726,\n",
       " 0.583904109589041,\n",
       " 0.5830479452054794,\n",
       " 0.589041095890411,\n",
       " 0.589041095890411,\n",
       " 0.5898972602739726,\n",
       " 0.5881849315068494,\n",
       " 0.5881849315068494,\n",
       " 0.5881849315068494,\n",
       " 0.5898972602739726,\n",
       " 0.5924657534246576,\n",
       " 0.5881849315068494,\n",
       " 0.5907534246575342,\n",
       " 0.5881849315068494,\n",
       " 0.5907534246575342,\n",
       " 0.5924657534246576,\n",
       " 0.5916095890410958,\n",
       " 0.5950342465753424,\n",
       " 0.5898972602739726,\n",
       " 0.5907534246575342,\n",
       " 0.5907534246575342,\n",
       " 0.5916095890410958,\n",
       " 0.5924657534246576,\n",
       " 0.5933219178082192,\n",
       " 0.5950342465753424,\n",
       " 0.5924657534246576,\n",
       " 0.5950342465753424,\n",
       " 0.5950342465753424,\n",
       " 0.5933219178082192,\n",
       " 0.5916095890410958,\n",
       " 0.5847602739726028,\n",
       " 0.5830479452054794]"
      ]
     },
     "execution_count": 75,
     "metadata": {},
     "output_type": "execute_result"
    }
   ],
   "source": [
    "test_acc_lst"
   ]
  },
  {
   "cell_type": "markdown",
   "metadata": {},
   "source": [
    "<h4> Method 4: Kernal Ridge"
   ]
  },
  {
   "cell_type": "code",
   "execution_count": 85,
   "metadata": {},
   "outputs": [],
   "source": [
    "# Kernal Ridge\n",
    "def kernel_ridge(X, y, X_test, y_test, sigma_sq_lst, lam):\n",
    "    n, p = X.shape\n",
    "    ntest, ptest = X_test.shape\n",
    "    norms2 = (np.array(la.norm(X, axis =1)).T)**2 # squared norm of each training sample\n",
    "    innerProds = X@X.T\n",
    "\n",
    "    train_acc_lst_kr = []\n",
    "    test_acc_lst_kr = []\n",
    "    for sigma in sigma_sq_lst:\n",
    "        # squared distances between each pair of training samples\n",
    "        dist2 = np.matrix(norms2).T@np.ones([1, n]) + np.ones([n, 1])@np.matrix(norms2) - 2*innerProds \n",
    "        K = np.exp(-dist2/(2*sigma))\n",
    "        alpha = (la.inv(K + lam*np.identity(n))@y)\n",
    "        yhat_train = np.rint(K@alpha.T)\n",
    "        train_acc_lst_kr.append(accuracy(yhat_train, y))\n",
    "        \n",
    "        norms2_test = (np.array(la.norm(X_test, axis =1)).T ) **2\n",
    "        innerProds_test = X_test@X_train.T\n",
    "        dist2_test = np.matrix(norms2_test).T@np.ones([1 , n]) + np.ones ([ntest ,1])@np.matrix(norms2) -2* innerProds_test\n",
    "        k_test = np.exp(-dist2_test/(2*sigma))\n",
    "        y_hat_test = np.rint(k_test@alpha.T)\n",
    "        accuracy(y_hat_test, y_test)\n",
    "        test_acc_lst_kr.append(accuracy(y_hat_test, y_test))\n",
    "\n",
    "    best_param_i = train_acc_lst_kr.index(max(train_acc_lst_kr))\n",
    "    print(best_param_i)\n",
    "    print(len(train_acc_lst_kr))\n",
    "    best_sigma_sq = sigma_sq_lst[best_param_i]\n",
    "        \n",
    "    return max(test_acc_lst_kr), best_sigma_sq"
   ]
  },
  {
   "cell_type": "code",
   "execution_count": 86,
   "metadata": {},
   "outputs": [
    {
     "name": "stdout",
     "output_type": "stream",
     "text": [
      "8\n",
      "11\n"
     ]
    }
   ],
   "source": [
    "# initial sigma/lam\n",
    "sigma_sq_lst = [.0001, .001, .01, .1, 0.5, 1, 5, 10, 25, 50, 100]\n",
    "#sigma_sq_lst = [.0001, .001]\n",
    "#sigma = 50\n",
    "lam = 1\n",
    "acc_kr, best_sigma_sq = kernel_ridge(X_train, y_train, X_test, y_test, sigma_sq_lst, lam)"
   ]
  },
  {
   "cell_type": "code",
   "execution_count": 87,
   "metadata": {},
   "outputs": [
    {
     "name": "stdout",
     "output_type": "stream",
     "text": [
      "25\n"
     ]
    },
    {
     "data": {
      "text/plain": [
       "0.5813356164383562"
      ]
     },
     "execution_count": 87,
     "metadata": {},
     "output_type": "execute_result"
    }
   ],
   "source": [
    "print(best_sigma_sq)\n",
    "acc_kr"
   ]
  },
  {
   "cell_type": "markdown",
   "metadata": {},
   "source": [
    "<h4> Method 5 (beyond class): Logistic Regression"
   ]
  },
  {
   "cell_type": "code",
   "execution_count": 51,
   "metadata": {},
   "outputs": [],
   "source": [
    "# Logistic Regression\n",
    "def one_hot(y, c):\n",
    "    \n",
    "    # y--> label/ground truth.\n",
    "    # c--> Number of classes.\n",
    "    \n",
    "    # A zero matrix of size (m, c)\n",
    "    y_hot = np.zeros((len(y), c))\n",
    "    \n",
    "    # Putting 1 for column where the label is,\n",
    "    # Using multidimensional indexing.\n",
    "    y_hot[np.arange(len(y)), y-1] = 1\n",
    "    \n",
    "    return y_hot\n",
    "\n",
    "def softmax(z):\n",
    "    \n",
    "    # z--> linear part.\n",
    "    \n",
    "    # subtracting the max of z for numerical stability.\n",
    "    exp = np.exp(z - np.max(z))\n",
    "    \n",
    "    # Calculating softmax for all examples.\n",
    "    for i in range(len(z)):\n",
    "        exp[i] /= np.sum(exp[i])\n",
    "        \n",
    "    return exp\n",
    "\n",
    "def fit(X, y, lr, c, epochs):\n",
    "    \n",
    "    # X --> Input.\n",
    "    # y --> true/target value.\n",
    "    # lr --> Learning rate.\n",
    "    # c --> Number of classes.\n",
    "    # epochs --> Number of iterations.\n",
    "    \n",
    "        \n",
    "    # m-> number of training examples\n",
    "    # n-> number of features \n",
    "    m, n = X.shape\n",
    "    \n",
    "    # Initializing weights and bias randomly.\n",
    "    w = np.random.random((n, c))\n",
    "    b = np.random.random(c)\n",
    "    # Empty list to store losses.\n",
    "    losses = []\n",
    "    \n",
    "    # Training loop.\n",
    "    for epoch in range(epochs):\n",
    "        \n",
    "        # Calculating hypothesis/prediction.\n",
    "        z = X@w + b\n",
    "        y_hat = softmax(z)\n",
    "        \n",
    "        # One-hot encoding y.\n",
    "        y_hot = one_hot(y, c)\n",
    "        \n",
    "        # Calculating the gradient of loss w.r.t w and b.\n",
    "        w_grad = (1/m)*np.dot(X.T, (y_hat - y_hot)) \n",
    "        b_grad = (1/m)*np.sum(y_hat - y_hot)\n",
    "        \n",
    "        # Updating the parameters.\n",
    "        w = w - lr*w_grad\n",
    "        b = b - lr*b_grad\n",
    "        \n",
    "        # Calculating loss and appending it in the list.\n",
    "        loss = -np.mean(np.log(y_hat[np.arange(len(y)), y-1]))\n",
    "        losses.append(loss)\n",
    "        # # Printing out the loss at every 100th iteration.\n",
    "        # if epoch%100==0:\n",
    "        #     print('Epoch {epoch}==> Loss = {loss}'\n",
    "        #           .format(epoch=epoch, loss=loss))\n",
    "    return w, b, losses\n",
    "\n",
    "def predict(X, w, b):\n",
    "    \n",
    "    # X --> Input.\n",
    "    # w --> weights.\n",
    "    # b --> bias.\n",
    "    \n",
    "    # Predicting\n",
    "    z = X@w + b\n",
    "    y_hat = softmax(z)\n",
    "    \n",
    "    # Returning the class with highest probability.\n",
    "    preds = np.argmax(y_hat, axis=1)\n",
    "    preds += 1\n",
    "    return preds"
   ]
  },
  {
   "cell_type": "code",
   "execution_count": 52,
   "metadata": {},
   "outputs": [
    {
     "data": {
      "text/plain": [
       "(4668, 119)"
      ]
     },
     "execution_count": 52,
     "metadata": {},
     "output_type": "execute_result"
    }
   ],
   "source": [
    "# turn data into np arrays\n",
    "X_train_np = X_train.to_numpy()\n",
    "y_train_np = y_train.to_numpy()\n",
    "X_test_np = X_test.to_numpy()\n",
    "y_test_np = y_test.to_numpy()\n",
    "X_train_np.shape"
   ]
  },
  {
   "cell_type": "code",
   "execution_count": 53,
   "metadata": {},
   "outputs": [
    {
     "data": {
      "text/plain": [
       "0.6333333333333333"
      ]
     },
     "execution_count": 53,
     "metadata": {},
     "output_type": "execute_result"
    }
   ],
   "source": [
    "# train and test on toy data (iris) logistic\n",
    "from sklearn.datasets import load_iris\n",
    "\n",
    "iris = load_iris()\n",
    "\n",
    "X = iris['data']\n",
    "y = iris['target']\n",
    "X_train_iris, X_test_iris, y_train_iris, y_test_iris = train_test_split(X, y, test_size=0.2, random_state=42)\n",
    "\n",
    "# make labels 1, 2, 3 from 0, 1, 2\n",
    "\n",
    "lrs = [.000001, .00001, .0001, .005, .01, .1, .2, .3, .5, 1]\n",
    "logit_acc_iris = []\n",
    "ws_iris = []\n",
    "bs_iris = []\n",
    "for l in lrs:\n",
    "    w, b, l = fit(X_train_iris, y_train_iris, lr=l, c=3, epochs=1000)\n",
    "    ws_iris.append(w)\n",
    "    bs_iris.append(b)\n",
    "    train_preds = predict(X_train_iris, w, b)\n",
    "    logit_acc_iris.append(accuracy(y_train_iris, train_preds))\n",
    "\n",
    "# get lr w/ min train err\n",
    "best_param_lr_i = logit_acc_iris.index(max(logit_acc_iris))\n",
    "best_lr_i = lrs[best_param_lr_i]\n",
    "best_w_i = ws_iris[best_param_lr_i]\n",
    "best_b_i = bs_iris[best_param_lr_i]\n",
    "\n",
    "pred_class_i = predict(X_test_iris, best_w_i, best_b_i)\n",
    "# get test accuracy\n",
    "accuracy(y_test_iris, pred_class_i)"
   ]
  },
  {
   "cell_type": "code",
   "execution_count": 54,
   "metadata": {},
   "outputs": [
    {
     "name": "stderr",
     "output_type": "stream",
     "text": [
      "/var/folders/8g/3jp0k1x54d1f91mld1sc5gq80000gn/T/ipykernel_18558/3314986497.py:67: RuntimeWarning: divide by zero encountered in log\n",
      "  loss = -np.mean(np.log(y_hat[np.arange(len(y)), y-1]))\n",
      "/var/folders/8g/3jp0k1x54d1f91mld1sc5gq80000gn/T/ipykernel_18558/3314986497.py:25: RuntimeWarning: invalid value encountered in true_divide\n",
      "  exp[i] /= np.sum(exp[i])\n"
     ]
    },
    {
     "data": {
      "text/plain": [
       "0.5368150684931506"
      ]
     },
     "execution_count": 54,
     "metadata": {},
     "output_type": "execute_result"
    }
   ],
   "source": [
    "# train and test\n",
    "logit_acc = []\n",
    "ws = []\n",
    "bs = []\n",
    "for l in lrs:\n",
    "    w, b, l = fit(X_train_np, y_train_np, lr=l, c=3, epochs=1000)\n",
    "    ws.append(w)\n",
    "    bs.append(b)\n",
    "    train_preds = predict(X_train_np, w, b)\n",
    "    logit_acc.append(accuracy(y_train_np, train_preds))\n",
    "\n",
    "# get lr w/ min train err\n",
    "best_param_lr = logit_acc.index(max(logit_acc))\n",
    "best_lr = lrs[best_param_lr]\n",
    "best_w = ws[best_param_lr]\n",
    "best_b = bs[best_param_lr]\n",
    "\n",
    "pred_class = predict(X_test_np, best_w, best_b)\n",
    "\n",
    "# get test accuracy\n",
    "accuracy(y_test_np, pred_class)"
   ]
  },
  {
   "cell_type": "code",
   "execution_count": 80,
   "metadata": {},
   "outputs": [
    {
     "data": {
      "text/plain": [
       "0.1"
      ]
     },
     "execution_count": 80,
     "metadata": {},
     "output_type": "execute_result"
    }
   ],
   "source": [
    "best_lr"
   ]
  },
  {
   "cell_type": "markdown",
   "metadata": {},
   "source": [
    "<h4> Method 6 (beyond class): Random Forest"
   ]
  },
  {
   "cell_type": "code",
   "execution_count": 12,
   "metadata": {},
   "outputs": [],
   "source": [
    "import numpy as np\n",
    "from collections import Counter\n",
    "\n",
    "\n",
    "class Node:\n",
    "    '''\n",
    "    Helper class which implements a single tree node.\n",
    "    '''\n",
    "    def __init__(self, feature=None, threshold=None, data_left=None, data_right=None, gain=None, value=None):\n",
    "        self.feature = feature\n",
    "        self.threshold = threshold\n",
    "        self.data_left = data_left\n",
    "        self.data_right = data_right\n",
    "        self.gain = gain\n",
    "        self.value = value"
   ]
  },
  {
   "cell_type": "code",
   "execution_count": 13,
   "metadata": {},
   "outputs": [],
   "source": [
    "class DecisionTree:\n",
    "    '''\n",
    "    Class which implements a decision tree classifier algorithm.\n",
    "    '''\n",
    "    def __init__(self, min_samples_split=2, max_depth=5):\n",
    "        self.min_samples_split = min_samples_split\n",
    "        self.max_depth = max_depth\n",
    "        self.root = None\n",
    "        \n",
    "    @staticmethod\n",
    "    def _entropy(s):\n",
    "        '''\n",
    "        Helper function, calculates entropy from an array of integer values.\n",
    "        \n",
    "        :param s: list\n",
    "        :return: float, entropy value\n",
    "        '''\n",
    "        # Convert to integers to avoid runtime errors\n",
    "        counts = np.bincount(np.array(s, dtype=np.int64))\n",
    "        # Probabilities of each class label\n",
    "        percentages = counts / len(s)\n",
    "\n",
    "        # Caclulate entropy\n",
    "        entropy = 0\n",
    "        for pct in percentages:\n",
    "            if pct > 0:\n",
    "                entropy += pct * np.log2(pct)\n",
    "        return -entropy\n",
    "    \n",
    "    def _information_gain(self, parent, left_child, right_child):\n",
    "        '''\n",
    "        Helper function, calculates information gain from a parent and two child nodes.\n",
    "        \n",
    "        :param parent: list, the parent node\n",
    "        :param left_child: list, left child of a parent\n",
    "        :param right_child: list, right child of a parent\n",
    "        :return: float, information gain\n",
    "        '''\n",
    "        num_left = len(left_child) / len(parent)\n",
    "        num_right = len(right_child) / len(parent)\n",
    "        \n",
    "        # One-liner which implements the previously discussed formula\n",
    "        return self._entropy(parent) - (num_left * self._entropy(left_child) + num_right * self._entropy(right_child))\n",
    "    \n",
    "    def _best_split(self, X, y):\n",
    "        '''\n",
    "        Helper function, calculates the best split for given features and target\n",
    "        \n",
    "        :param X: np.array, features\n",
    "        :param y: np.array or list, target\n",
    "        :return: dict\n",
    "        '''\n",
    "        best_split = {}\n",
    "        best_info_gain = -1\n",
    "        n_rows, n_cols = X.shape\n",
    "        \n",
    "        # For every dataset feature\n",
    "        for f_idx in range(n_cols):\n",
    "            X_curr = X[:, f_idx]\n",
    "            # For every unique value of that feature\n",
    "            for threshold in np.unique(X_curr):\n",
    "                # Construct a dataset and split it to the left and right parts\n",
    "                # Left part includes records lower or equal to the threshold\n",
    "                # Right part includes records higher than the threshold\n",
    "                df = np.concatenate((X, y.reshape(1, -1).T), axis=1)\n",
    "                df_left = np.array([row for row in df if row[f_idx] <= threshold])\n",
    "                df_right = np.array([row for row in df if row[f_idx] > threshold])\n",
    "\n",
    "                # Do the calculation only if there's data in both subsets\n",
    "                if len(df_left) > 0 and len(df_right) > 0:\n",
    "                    # Obtain the value of the target variable for subsets\n",
    "                    y = df[:, -1]\n",
    "                    y_left = df_left[:, -1]\n",
    "                    y_right = df_right[:, -1]\n",
    "\n",
    "                    # Caclulate the information gain and save the split parameters\n",
    "                    # if the current split if better then the previous best\n",
    "                    gain = self._information_gain(y, y_left, y_right)\n",
    "                    if gain > best_info_gain:\n",
    "                        best_split = {\n",
    "                            'feature_index': f_idx,\n",
    "                            'threshold': threshold,\n",
    "                            'df_left': df_left,\n",
    "                            'df_right': df_right,\n",
    "                            'gain': gain\n",
    "                        }\n",
    "                        best_info_gain = gain\n",
    "        return best_split\n",
    "    \n",
    "    def _build(self, X, y, depth=0):\n",
    "        '''\n",
    "        Helper recursive function, used to build a decision tree from the input data.\n",
    "        \n",
    "        :param X: np.array, features\n",
    "        :param y: np.array or list, target\n",
    "        :param depth: current depth of a tree, used as a stopping criteria\n",
    "        :return: Node\n",
    "        '''\n",
    "        n_rows, n_cols = X.shape\n",
    "        \n",
    "        # Check to see if a node should be leaf node\n",
    "        if n_rows >= self.min_samples_split and depth <= self.max_depth:\n",
    "            # Get the best split\n",
    "            best = self._best_split(X, y)\n",
    "            # If the split isn't pure\n",
    "            if best['gain'] > 0:\n",
    "                # Build a tree on the left\n",
    "                left = self._build(\n",
    "                    X=best['df_left'][:, :-1], \n",
    "                    y=best['df_left'][:, -1], \n",
    "                    depth=depth + 1\n",
    "                )\n",
    "                right = self._build(\n",
    "                    X=best['df_right'][:, :-1], \n",
    "                    y=best['df_right'][:, -1], \n",
    "                    depth=depth + 1\n",
    "                )\n",
    "                return Node(\n",
    "                    feature=best['feature_index'], \n",
    "                    threshold=best['threshold'], \n",
    "                    data_left=left, \n",
    "                    data_right=right, \n",
    "                    gain=best['gain']\n",
    "                )\n",
    "        # Leaf node - value is the most common target value \n",
    "        return Node(\n",
    "            value=Counter(y).most_common(1)[0][0]\n",
    "        )\n",
    "    \n",
    "    def fit(self, X, y):\n",
    "        '''\n",
    "        Function used to train a decision tree classifier model.\n",
    "        \n",
    "        :param X: np.array, features\n",
    "        :param y: np.array or list, target\n",
    "        :return: None\n",
    "        '''\n",
    "        # Call a recursive function to build the tree\n",
    "        self.root = self._build(X, y)\n",
    "        \n",
    "    def _predict(self, x, tree):\n",
    "        '''\n",
    "        Helper recursive function, used to predict a single instance (tree traversal).\n",
    "        \n",
    "        :param x: single observation\n",
    "        :param tree: built tree\n",
    "        :return: float, predicted class\n",
    "        '''\n",
    "        # Leaf node\n",
    "        if tree.value != None:\n",
    "            return tree.value\n",
    "        feature_value = x[tree.feature]\n",
    "        \n",
    "        # Go to the left\n",
    "        if feature_value <= tree.threshold:\n",
    "            return self._predict(x=x, tree=tree.data_left)\n",
    "        \n",
    "        # Go to the right\n",
    "        if feature_value > tree.threshold:\n",
    "            return self._predict(x=x, tree=tree.data_right)\n",
    "        \n",
    "    def predict(self, X):\n",
    "        '''\n",
    "        Function used to classify new instances.\n",
    "        \n",
    "        :param X: np.array, features\n",
    "        :return: np.array, predicted classes\n",
    "        '''\n",
    "        # Call the _predict() function for every observation\n",
    "        return [self._predict(x, self.root) for x in X]"
   ]
  },
  {
   "cell_type": "code",
   "execution_count": 14,
   "metadata": {},
   "outputs": [],
   "source": [
    "class RandomForest:\n",
    "    '''\n",
    "    A class that implements Random Forest algorithm from scratch.\n",
    "    '''\n",
    "    def __init__(self, num_trees=25, min_samples_split=2, max_depth=5):\n",
    "        self.num_trees = num_trees\n",
    "        self.min_samples_split = min_samples_split\n",
    "        self.max_depth = max_depth\n",
    "        # Will store individually trained decision trees\n",
    "        self.decision_trees = []\n",
    "        \n",
    "    @staticmethod\n",
    "    def _sample(X, y):\n",
    "        '''\n",
    "        Helper function used for boostrap sampling.\n",
    "        \n",
    "        :param X: np.array, features\n",
    "        :param y: np.array, target\n",
    "        :return: tuple (sample of features, sample of target)\n",
    "        '''\n",
    "        n_rows, n_cols = X.shape\n",
    "        # Sample with replacement\n",
    "        samples = np.random.choice(a=n_rows, size=n_rows, replace=True)\n",
    "        return X[samples], y[samples]\n",
    "        \n",
    "    def fit(self, X, y):\n",
    "        '''\n",
    "        Trains a Random Forest classifier.\n",
    "        \n",
    "        :param X: np.array, features\n",
    "        :param y: np.array, target\n",
    "        :return: None\n",
    "        '''\n",
    "        # Reset\n",
    "        if len(self.decision_trees) > 0:\n",
    "            self.decision_trees = []\n",
    "            \n",
    "        # Build each tree of the forest\n",
    "        num_built = 0\n",
    "        while num_built < self.num_trees:\n",
    "            try:\n",
    "                clf = DecisionTree(\n",
    "                    min_samples_split=self.min_samples_split,\n",
    "                    max_depth=self.max_depth\n",
    "                )\n",
    "                # Obtain data sample\n",
    "                _X, _y = self._sample(X, y)\n",
    "                # Train\n",
    "                clf.fit(_X, _y)\n",
    "                # Save the classifier\n",
    "                self.decision_trees.append(clf)\n",
    "                num_built += 1\n",
    "            except Exception as e:\n",
    "                continue\n",
    "    \n",
    "    def predict(self, X):\n",
    "        '''\n",
    "        Predicts class labels for new data instances.\n",
    "        \n",
    "        :param X: np.array, new instances to predict\n",
    "        :return: \n",
    "        '''\n",
    "        # Make predictions with every tree in the forest\n",
    "        y = []\n",
    "        for tree in self.decision_trees:\n",
    "            y.append(tree.predict(X))\n",
    "        \n",
    "        # Reshape so we can find the most common value\n",
    "        y = np.swapaxes(a=y, axis1=0, axis2=1)\n",
    "        \n",
    "        # Use majority voting for the final prediction\n",
    "        predictions = []\n",
    "        for preds in y:\n",
    "            counter = Counter(preds)\n",
    "            predictions.append(counter.most_common(1)[0][0])\n",
    "        return predictions"
   ]
  },
  {
   "cell_type": "code",
   "execution_count": 60,
   "metadata": {},
   "outputs": [
    {
     "data": {
      "text/plain": [
       "1.0"
      ]
     },
     "execution_count": 60,
     "metadata": {},
     "output_type": "execute_result"
    }
   ],
   "source": [
    "# train and test on toy data (iris) random forest\n",
    "model = RandomForest()\n",
    "model.fit(X_train_iris, y_train_iris)\n",
    "preds_iris = model.predict(X_test_iris)\n",
    "\n",
    "accuracy(y_test_iris, preds_iris)"
   ]
  },
  {
   "cell_type": "code",
   "execution_count": 15,
   "metadata": {},
   "outputs": [
    {
     "data": {
      "text/plain": [
       "0.6429794520547946"
      ]
     },
     "execution_count": 15,
     "metadata": {},
     "output_type": "execute_result"
    }
   ],
   "source": [
    "model = RandomForest()\n",
    "model.fit(X_train.to_numpy(), y_train.to_numpy())\n",
    "preds = np.rint(model.predict(X_test.to_numpy()))\n",
    "accuracy(preds, y_test)"
   ]
  },
  {
   "cell_type": "code",
   "execution_count": 21,
   "metadata": {},
   "outputs": [
    {
     "name": "stdout",
     "output_type": "stream",
     "text": [
      "[[179  62  45]\n",
      " [ 29 318 152]\n",
      " [ 11 118 254]]\n",
      "0.6429794520547946\n",
      "0.6458541434827093\n"
     ]
    }
   ],
   "source": [
    "from sklearn.metrics import confusion_matrix, f1_score, accuracy_score\n",
    "\n",
    "# Create confusion matrix\n",
    "print(confusion_matrix(y_test, preds))\n",
    "\n",
    "# Display accuracy score\n",
    "print(accuracy_score(y_test, preds))\n",
    "\n",
    "# Display F1 score\n",
    "print(f1_score(y_test,preds, average='weighted'))"
   ]
  },
  {
   "cell_type": "code",
   "execution_count": null,
   "metadata": {},
   "outputs": [],
   "source": [
    "# choose columns we find important and see if that affects accuracy at all????  "
   ]
  },
  {
   "cell_type": "code",
   "execution_count": null,
   "metadata": {},
   "outputs": [],
   "source": [
    "# bootstrapping\n",
    "# aggregation (bagging)\n",
    "# trees will give \n",
    "# how many features to consider? sq root of total # of features; 119**(1/2) = ~11"
   ]
  }
 ],
 "metadata": {
  "kernelspec": {
   "display_name": "Python 3.9.13 64-bit",
   "language": "python",
   "name": "python3"
  },
  "language_info": {
   "codemirror_mode": {
    "name": "ipython",
    "version": 3
   },
   "file_extension": ".py",
   "mimetype": "text/x-python",
   "name": "python",
   "nbconvert_exporter": "python",
   "pygments_lexer": "ipython3",
   "version": "3.9.13"
  },
  "vscode": {
   "interpreter": {
    "hash": "aee8b7b246df8f9039afb4144a1f6fd8d2ca17a180786b69acc140d282b71a49"
   }
  }
 },
 "nbformat": 4,
 "nbformat_minor": 2
}
