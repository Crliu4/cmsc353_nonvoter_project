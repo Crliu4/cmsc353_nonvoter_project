{
 "cells": [
  {
   "cell_type": "markdown",
   "metadata": {},
   "source": [
    "<h3>Predictors of Non-Voters in the United States</h3>"
   ]
  },
  {
   "cell_type": "markdown",
   "metadata": {},
   "source": [
    "To-do:\n",
    "* get accuracy rate for each method\n",
    "* use toy data (iris) to prove our method works\n",
    "* write up paper"
   ]
  },
  {
   "cell_type": "code",
   "execution_count": 1,
   "metadata": {},
   "outputs": [],
   "source": [
    "import pandas as pd\n",
    "import numpy as np \n",
    "from sklearn.model_selection import train_test_split\n",
    "from numpy import linalg as la\n",
    "import matplotlib.pyplot as plt\n",
    "import math"
   ]
  },
  {
   "cell_type": "code",
   "execution_count": 2,
   "metadata": {},
   "outputs": [],
   "source": [
    "df = pd.read_csv('no_voter_data.csv')"
   ]
  },
  {
   "cell_type": "markdown",
   "metadata": {},
   "source": [
    "<h4>Data Cleaning and Manipulation"
   ]
  },
  {
   "cell_type": "code",
   "execution_count": 3,
   "metadata": {},
   "outputs": [],
   "source": [
    "# create necessary columns for race \n",
    "df['white'] = np.where(df['race'] == 'White', 1, 0)\n",
    "df['black'] = np.where(df['race'] == 'Black', 1, 0)\n",
    "df['other/mixed'] = np.where(df['race'] == 'Other/Mixed', 1, 0)\n",
    "df['hispanic'] = np.where(df['race'] == 'Hispanic', 1, 0)"
   ]
  },
  {
   "cell_type": "code",
   "execution_count": 4,
   "metadata": {},
   "outputs": [],
   "source": [
    "# gender \n",
    "df['gender'] = np.where(df['gender'] == 'Female', 1, 0)"
   ]
  },
  {
   "cell_type": "code",
   "execution_count": 5,
   "metadata": {},
   "outputs": [],
   "source": [
    "# income category\n",
    "new_label = {\"income_cat\": {\"Less than $40k\":1, \n",
    "            \"$40-75k\":2, \n",
    "            \"$75-125k\":3,\n",
    "            \"$125k or more\":4}}\n",
    "df.replace(new_label, inplace = True)"
   ]
  },
  {
   "cell_type": "code",
   "execution_count": 6,
   "metadata": {},
   "outputs": [],
   "source": [
    "# education category\n",
    "new_label = {\"educ\": {\"High school or less\":1, \n",
    "            \"Some college\":2, \n",
    "            \"College\":3}}\n",
    "df.replace(new_label, inplace = True)"
   ]
  },
  {
   "cell_type": "code",
   "execution_count": 7,
   "metadata": {},
   "outputs": [],
   "source": [
    "# voter category data manipulations\n",
    "new_label = {\"voter_category\": {\"always\":3, \"sporadic\":2, \"rarely/never\":1}}\n",
    "df.replace(new_label, inplace = True)"
   ]
  },
  {
   "cell_type": "code",
   "execution_count": 8,
   "metadata": {},
   "outputs": [],
   "source": [
    "# DROPPP\n",
    "df = df.drop([\"race\", \"RespId\", \"weight\"], axis=1)\n",
    "# fill NA's \n",
    "df_2 = df.fillna(0)"
   ]
  },
  {
   "cell_type": "code",
   "execution_count": 9,
   "metadata": {},
   "outputs": [],
   "source": [
    "y = df_2[\"voter_category\"]"
   ]
  },
  {
   "cell_type": "code",
   "execution_count": 10,
   "metadata": {},
   "outputs": [],
   "source": [
    "X = df_2.drop(\"voter_category\", axis=1)"
   ]
  },
  {
   "cell_type": "markdown",
   "metadata": {},
   "source": [
    "<h4>Create train and test data"
   ]
  },
  {
   "cell_type": "code",
   "execution_count": 11,
   "metadata": {},
   "outputs": [],
   "source": [
    "X_train, X_test, y_train, y_test = train_test_split(X, y, test_size=0.2, random_state=42)"
   ]
  },
  {
   "cell_type": "markdown",
   "metadata": {},
   "source": [
    "<h4> Method 1: Truncated SVD"
   ]
  },
  {
   "cell_type": "code",
   "execution_count": 13,
   "metadata": {},
   "outputs": [],
   "source": [
    "# Truncated SVD\n",
    "# use different # of cols and find which # minimizes error\n",
    "def truncated_svd(X, y):\n",
    "    svd_errors = []\n",
    "    w_hats_svd = []\n",
    "    _, p = X.shape\n",
    "    u, s, vt = la.svd(X)\n",
    "    sigma = np.zeros(X.shape)\n",
    "    sigma1 = sigma.copy()\n",
    "\n",
    "    for i in range(p):\n",
    "        s1 = s[:i+1]\n",
    "        np.fill_diagonal(sigma, np.append(s1, np.zeros(p - i + 1)))\n",
    "        sigma_inv = la.pinv(sigma)\n",
    "        w_hat_svd = vt.T@sigma_inv@u.T@y\n",
    "        w_hats_svd.append(w_hat_svd)\n",
    "        y_hat_svd = X@w_hat_svd\n",
    "        svd_errors.append(np.mean(y - y_hat_svd)**2)\n",
    "\n",
    "    best_param_svd = svd_errors.index(min(svd_errors))\n",
    "    return best_param_svd, w_hats_svd[best_param_svd]"
   ]
  },
  {
   "cell_type": "code",
   "execution_count": 14,
   "metadata": {},
   "outputs": [],
   "source": [
    "svd_best_num_col, svd_whats = truncated_svd(X_train, y_train)"
   ]
  },
  {
   "cell_type": "code",
   "execution_count": 15,
   "metadata": {},
   "outputs": [
    {
     "data": {
      "text/plain": [
       "117"
      ]
     },
     "execution_count": 15,
     "metadata": {},
     "output_type": "execute_result"
    }
   ],
   "source": [
    "svd_best_num_col"
   ]
  },
  {
   "cell_type": "markdown",
   "metadata": {},
   "source": [
    "<h4> Method 2: Ridge Regression"
   ]
  },
  {
   "cell_type": "code",
   "execution_count": 16,
   "metadata": {},
   "outputs": [],
   "source": [
    "# Ridge Regression\n",
    "def rls(X, y, lambda_vals):\n",
    "    \n",
    "    #### RLS ####\n",
    "    w_hat_lst = []\n",
    "    errors_lst = []\n",
    "    u, s, vt = la.svd(X)\n",
    "    sigma = np.zeros(X.shape) # n x p\n",
    "    sigma1 = sigma.copy() #creating copy \n",
    "    np.fill_diagonal(sigma1, s)\n",
    "            \n",
    "    for l, val in enumerate(lambda_vals):\n",
    "        w_hat = la.inv(vt.T@sigma1.T@sigma1@vt + val)@vt.T@sigma1.T@u.T@y\n",
    "        w_hat_lst.append(w_hat)\n",
    "\n",
    "        y_tilde = X@w_hat\n",
    "        # error = la.norm(y - y_tilde)\n",
    "        error = np.mean((y_tilde - y)**2)\n",
    "        errors_lst.append(error)\n",
    "\n",
    "    best_param_index = errors_lst.index(min(errors_lst))\n",
    "    best_w = w_hat_lst[best_param_index]\n",
    "    best_lambda = lambda_vals[best_param_index]\n",
    "    return best_lambda, best_w \n"
   ]
  },
  {
   "cell_type": "code",
   "execution_count": 19,
   "metadata": {},
   "outputs": [],
   "source": [
    "lambda_vals = np.array([0, 0.001, 0.01, 0.1, 0.5, 1, 2, 4, 8, 16, 32, 64])\n",
    "\n",
    "rls_best_lambda, rls_whats = rls(X, y, lambda_vals)"
   ]
  },
  {
   "cell_type": "code",
   "execution_count": 22,
   "metadata": {},
   "outputs": [
    {
     "name": "stdout",
     "output_type": "stream",
     "text": [
      "0.01\n"
     ]
    }
   ],
   "source": [
    "print(rls_best_lambda)"
   ]
  },
  {
   "cell_type": "markdown",
   "metadata": {},
   "source": [
    "<h4> Method 3: Principal Component Analysis"
   ]
  },
  {
   "cell_type": "code",
   "execution_count": 23,
   "metadata": {},
   "outputs": [
    {
     "data": {
      "image/png": "[encoded data removed]",
      "text/plain": [
       "<Figure size 864x432 with 1 Axes>"
      ]
     },
     "metadata": {
      "needs_background": "light"
     },
     "output_type": "display_data"
    }
   ],
   "source": [
    "# PCA\n",
    "u,s,vh = np.linalg.svd(X_train ,full_matrices=False)\n",
    "\n",
    "fig, ax = plt.subplots(nrows=1, ncols=1, figsize=(12,6))\n",
    "ax.plot(range(1,s.shape[0]+1), s, color=\"steelblue\", label='sigmas')\n",
    "ax.set_xlabel(\"sigma_index\", fontsize=16)\n",
    "ax.set_ylabel(\"value\", fontsize=16)\n",
    "plt.show()\n",
    "\n",
    "# first 3 sigmas seem to be the most important; we will solve for 3 principle components"
   ]
  },
  {
   "cell_type": "code",
   "execution_count": 24,
   "metadata": {},
   "outputs": [
    {
     "name": "stdout",
     "output_type": "stream",
     "text": [
      "training error distance: 50.142760706404516\n"
     ]
    }
   ],
   "source": [
    "# calculate principal components\n",
    "pc = X_train@vh[:3,:].T\n",
    "z3 = pc\n",
    "\n",
    "# use 3 PC to compute least sqaures \n",
    "w = np.linalg.inv(z3.T@z3)@z3.T@y_train\n",
    "y_pred = z3@w\n",
    "acc_train = np.mean((y_pred - y_train)**2)\n",
    "acc_train = la.norm(y_pred - y_train)\n",
    "print(\"training error distance:\", acc_train)\n",
    "\n",
    "# What to make of this? "
   ]
  },
  {
   "cell_type": "markdown",
   "metadata": {},
   "source": [
    "<h4> Method 4: Kernal Ridge"
   ]
  },
  {
   "cell_type": "code",
   "execution_count": 71,
   "metadata": {},
   "outputs": [],
   "source": [
    "# Kernal Ridge\n",
    "def kernel_ridge(X, y, X_test, sigma, lam):\n",
    "    n, p = X.shape\n",
    "    ntest, ptest = X_test.shape\n",
    "    norms2 = (np.array(la.norm(X, axis =1)).T)**2 # squared norm of each training sample\n",
    "    innerProds = X@X.T\n",
    "\n",
    "    # squared distances between each pair of training samples\n",
    "    dist2 = np.matrix(norms2).T@np.ones([1, n]) + np.ones([n, 1])@np.matrix(norms2) - 2*innerProds \n",
    "    K = np.exp(-dist2/(2*sigma))\n",
    "    alpha = (la.inv(K + lam*np.identity(n))@y)\n",
    "    yhat = K@alpha.T\n",
    "    \n",
    "\n",
    "    norms2_test = (np.array(la.norm(X_test, axis =1)).T ) **2\n",
    "    innerProds_test = X_test@X_train.T\n",
    "    dist2_test = np.matrix(norms2_test).T@np.ones([1 , n]) + np.ones ([ntest ,1])@np.matrix(norms2) -2* innerProds_test\n",
    "    k_test = np.exp(-dist2_test/(2*sigma))\n",
    "    y_hat = np.rint(k_test@alpha.T)\n",
    "    \n",
    "    return alpha, y_hat"
   ]
  },
  {
   "cell_type": "code",
   "execution_count": 82,
   "metadata": {},
   "outputs": [],
   "source": [
    "# initial sigma/lam\n",
    "sigma = 50\n",
    "lam = 1\n",
    "kr_alpha, kr_y_hat = kernel_ridge(X_train, y_train, X_test, sigma, lam)"
   ]
  },
  {
   "cell_type": "code",
   "execution_count": 83,
   "metadata": {
    "scrolled": true
   },
   "outputs": [
    {
     "data": {
      "text/plain": [
       "2325.0"
      ]
     },
     "execution_count": 83,
     "metadata": {},
     "output_type": "execute_result"
    }
   ],
   "source": [
    "sum(kr_y_hat)"
   ]
  },
  {
   "cell_type": "code",
   "execution_count": 18,
   "metadata": {},
   "outputs": [],
   "source": [
    "# calculate accuracy all methods\n",
    "def accuracy(y_hat, y_test):\n",
    "    return np.mean(y_hat==y_test)"
   ]
  },
  {
   "cell_type": "code",
   "execution_count": 205,
   "metadata": {},
   "outputs": [
    {
     "data": {
      "text/plain": [
       "0.5556506849315068"
      ]
     },
     "execution_count": 205,
     "metadata": {},
     "output_type": "execute_result"
    }
   ],
   "source": [
    "accuracy(kr_y_hat, y_test)"
   ]
  },
  {
   "cell_type": "markdown",
   "metadata": {},
   "source": [
    "<h4> Method 5 (beyond class): Logistic Regression"
   ]
  },
  {
   "cell_type": "code",
   "execution_count": null,
   "metadata": {},
   "outputs": [],
   "source": [
    "# Logistic Regression"
   ]
  },
  {
   "cell_type": "code",
   "execution_count": 177,
   "metadata": {},
   "outputs": [],
   "source": [
    "def sigmoid(score, threshold=20.0):\n",
    "    \"\"\"\n",
    "    Sigmoid function with a threshold\n",
    "    :param score: (float) A real valued number to convert into a number between 0 and 1\n",
    "    :param threshold: (float) Prevent overflow of exp by capping activation at 20.\n",
    "    \n",
    "    :return: (float) sigmoid function result.\n",
    "    \"\"\"\n",
    "    # TODO: Finish this function to restrict the value of the input score and return the output of applying the \n",
    "    #       sigmoid function to it (Please do not use external libraries)\n",
    "    \n",
    "    if abs(score) > abs(threshold):\n",
    "        score = math.copysign(threshold,score)\n",
    "\n",
    "    sigmoid = 1 / (1 + math.exp(-score))\n",
    "    \n",
    "    return sigmoid\n",
    "\n",
    "    \n",
    "def sigmoid_grad(y, threshold=20.0):\n",
    "    \"\"\"\n",
    "    Derivative/gradient of the sigmoid function.\n",
    "    :param y: (float) A real valued input for which to compute the derivative.\n",
    "    :param threshold: (float) Prevent overflow of exp by capping activation at 20.\n",
    "    \n",
    "    :return: (float) sigmoid derivative function result.\n",
    "    \"\"\"\n",
    "    # TODO: Finish this function to return the output of applying the gradient of the sigmoid\n",
    "    # function to the input score (Please do not use external libraries)\n",
    "\n",
    "    if abs(y) > abs(threshold):\n",
    "        y = math.copysign(threshold,y)\n",
    "    deriv = (sigmoid(y)**2)*math.exp(-y)\n",
    "    \n",
    "    return deriv\n",
    "    \n",
    "def shuffle(X, y):\n",
    "    \"\"\" Shuffle training data \"\"\"\n",
    "    shuffled_indices = np.random.permutation(len(y))\n",
    "    #print(\"?!\", shuffled_indices)\n",
    "    return X.iloc[shuffled_indices], y.iloc[shuffled_indices]"
   ]
  },
  {
   "cell_type": "code",
   "execution_count": 198,
   "metadata": {},
   "outputs": [],
   "source": [
    "class LogReg:\n",
    "    def __init__(self, num_features, eta):\n",
    "        \"\"\"\n",
    "        Create a logistic regression classifier\n",
    "        :param num_features: (int) The number of features (including bias)\n",
    "        :param eta: (float) learning rate\n",
    "        \"\"\"\n",
    "        self.w = np.zeros((num_features,1))\n",
    "        self.eta = eta\n",
    "\n",
    "    def progress(self, examples_x, examples_y):\n",
    "        \"\"\"\n",
    "        Given a set of examples, compute the probability and accuracy\n",
    "        :param examples_x: (2D np.ndarray) The features from the dataset to score\n",
    "        :param examples_y: (1D np.ndarray) The labels from the dataset to score\n",
    "\n",
    "        :return: (float, float) A tuple of (log probability, accuracy)\n",
    "        \"\"\"\n",
    "\n",
    "        logprob = 0.0\n",
    "        num_right = 0\n",
    "        for x_i, y in zip(examples_x, examples_y):\n",
    "            p = sigmoid(self.w.dot(x_i))\n",
    "            if y == 1:\n",
    "                logprob += math.log(p)\n",
    "            else:\n",
    "                logprob += math.log(1.0 - p)\n",
    "\n",
    "            # Get accuracy\n",
    "            if abs(y - p) <= 0.5:\n",
    "                num_right += 1\n",
    "\n",
    "        return logprob, float(num_right) / float(len(examples_y))\n",
    "\n",
    "    def sgd_update(self, x_i, y, lam=0.0):\n",
    "        \"\"\"\n",
    "        Compute a stochastic gradient update to improve the log likelihood.\n",
    "        :param x_i: (1D np.ndarray) The features of the example to take the gradient with respect to\n",
    "        :param y: (float) The target output of the example to take the gradient with respect to\n",
    "        :param lam: (float) regularization term. Default is zero; only used in Part 2D.\n",
    "        \n",
    "        :return: (1D np.ndarray) Return the new value of the regression coefficients\n",
    "        \"\"\"\n",
    "\n",
    "        # compute pi\n",
    "        print(\"xi\", x_i)\n",
    "        pi = sigmoid(self.w.dot(x_i))\n",
    "        print(\"pi:\", pi)\n",
    "        \n",
    "        action = 2 * lam * self.w[1:]\n",
    "\n",
    "        # insert b_0\n",
    "        action = np.insert(action,0,0) \n",
    "        self.w = self.w + self.eta * ((y - pi) * x_i - action)\n",
    "        \n",
    "        return self.w"
   ]
  },
  {
   "cell_type": "code",
   "execution_count": 172,
   "metadata": {},
   "outputs": [
    {
     "data": {
      "text/plain": [
       "5283    1\n",
       "Name: voter_category, dtype: int64"
      ]
     },
     "execution_count": 172,
     "metadata": {},
     "output_type": "execute_result"
    }
   ],
   "source": [
    "y_train.iloc[[2559]]"
   ]
  },
  {
   "cell_type": "code",
   "execution_count": 196,
   "metadata": {},
   "outputs": [],
   "source": [
    "def train(epochs, eta, store_epoch, lam=1e-5, decay=0):\n",
    "    \"\"\"\n",
    "    Train a LogReg object for a set number of epochs with a given eta.\n",
    "    \n",
    "    :param epochs: (int) total number of training epochs\n",
    "    :param eta: (float) learning rate\n",
    "    :param store_epoch: (int) store training and test accuracies every store_epoch epochs\n",
    "    :param lam: (float) weight given to regularization term. Default 0. Only used in Part 2D. \n",
    "    :param decay: (float) Used to update learning rate during training (Part 3). \n",
    "                  Equals 0 when learning rate is constant throughout training (Part 2). \n",
    "                  \n",
    "    :return (train_accuracy_array, test_accuracy_array, learning_rates): tuple of (List, List, List)\n",
    "        :train_accuracy_array: training accuracy after every store_epoch epochs\n",
    "        :test_accuracy_array: test accuracy after every store_epoch epochs\n",
    "        :learning_rates: learning rate after every store_epoch epochs. All values in this list \n",
    "                         will be the same if decay = 0 (Only required for Part 2F)\n",
    "    \n",
    "        Example: With epochs = 30 and store_epoch = 10, only store accuracies after epochs = 10, 20, and 30.\n",
    "    \"\"\"\n",
    "    \n",
    "    lr = LogReg(X_train.shape[1], eta)\n",
    "\n",
    "    #assert dataset_handler.train_x.shape == (1105, 60) \n",
    "    #assert dataset_handler.test_x.shape == (277, 60) \n",
    "    \n",
    "    train_accuracy_array = []\n",
    "    test_accuracy_array = []\n",
    "    learning_rates = []\n",
    "    \n",
    "    for epoch in range(epochs):\n",
    "        # TODO: Finish the code to loop over the training data and perform a stochastic\n",
    "        # gradient descent update on each training example.\n",
    "\n",
    "        # NOTE: It may be helpful to call upon the 'progress' method in the LogReg class\n",
    "        # to make sure the algorithm is truly learning properly on both training and test data\n",
    "        \n",
    "        # update learning rate\n",
    "        lr.eta = lr.eta / (1 + decay * epoch)\n",
    "        \n",
    "        # shuffle data\n",
    "        x, y = shuffle(X_train, y_train)\n",
    "        print(\"got here?\")\n",
    "        \n",
    "        # go through entire training data\n",
    "        for i, x_i in enumerate(x):\n",
    "            new_x = x[x_i].values.reshape((1,x.shape[0]))        \n",
    "            lr.sgd_update(new_x, y.iloc[i], lam)\n",
    "        \n",
    "        # store prorgress for each store_epoch\n",
    "        if epoch % store_epoch == 0:\n",
    "            _, train_accuracy = lr.progress(x, y)\n",
    "            train_accuracy_array.append(train_accuracy)\n",
    "            #_, test_accuracy = lr.progress(dataset_handler.test_x, dataset_handler.test_y)\n",
    "            # test_accuracy_array.append(test_accuracy)\n",
    "            learning_rates.append(lr.eta)\n",
    "            \n",
    "        \n",
    "    return train_accuracy_array, learning_rates\n",
    "    #test_accuracy_array,"
   ]
  },
  {
   "cell_type": "code",
   "execution_count": 199,
   "metadata": {
    "collapsed": true
   },
   "outputs": [
    {
     "name": "stdout",
     "output_type": "stream",
     "text": [
      "got here?\n",
      "xi [[1 1 1 ... 1 1 1]]\n"
     ]
    },
    {
     "ename": "ValueError",
     "evalue": "The truth value of an array with more than one element is ambiguous. Use a.any() or a.all()",
     "output_type": "error",
     "traceback": [
      "\u001b[0;31m---------------------------------------------------------------------------\u001b[0m",
      "\u001b[0;31mValueError\u001b[0m                                Traceback (most recent call last)",
      "\u001b[1;32m/Users/eujeneyum/Desktop/UChicago_Courses/Q4/ML/final_project/cmsc353_nonvoter_project/models.ipynb Cell 29\u001b[0m in \u001b[0;36m<cell line: 4>\u001b[0;34m()\u001b[0m\n\u001b[1;32m      <a href='vscode-notebook-cell:/Users/eujeneyum/Desktop/UChicago_Courses/Q4/ML/final_project/cmsc353_nonvoter_project/models.ipynb#X56sZmlsZQ%3D%3D?line=1'>2</a>\u001b[0m epochs \u001b[39m=\u001b[39m \u001b[39m300\u001b[39m\n\u001b[1;32m      <a href='vscode-notebook-cell:/Users/eujeneyum/Desktop/UChicago_Courses/Q4/ML/final_project/cmsc353_nonvoter_project/models.ipynb#X56sZmlsZQ%3D%3D?line=2'>3</a>\u001b[0m store_epoch \u001b[39m=\u001b[39m \u001b[39m50\u001b[39m\n\u001b[0;32m----> <a href='vscode-notebook-cell:/Users/eujeneyum/Desktop/UChicago_Courses/Q4/ML/final_project/cmsc353_nonvoter_project/models.ipynb#X56sZmlsZQ%3D%3D?line=3'>4</a>\u001b[0m train_acc, _ \u001b[39m=\u001b[39m train(epochs, eta, store_epoch)\n\u001b[1;32m      <a href='vscode-notebook-cell:/Users/eujeneyum/Desktop/UChicago_Courses/Q4/ML/final_project/cmsc353_nonvoter_project/models.ipynb#X56sZmlsZQ%3D%3D?line=5'>6</a>\u001b[0m \u001b[39mfor\u001b[39;00m i \u001b[39min\u001b[39;00m \u001b[39mrange\u001b[39m(\u001b[39mlen\u001b[39m(train_acc)):\n\u001b[1;32m      <a href='vscode-notebook-cell:/Users/eujeneyum/Desktop/UChicago_Courses/Q4/ML/final_project/cmsc353_nonvoter_project/models.ipynb#X56sZmlsZQ%3D%3D?line=6'>7</a>\u001b[0m     \u001b[39mprint\u001b[39m(\u001b[39m\"\u001b[39m\u001b[39m\\n\u001b[39;00m\u001b[39mtrain accuracy after \u001b[39m\u001b[39m{}\u001b[39;00m\u001b[39m epochs: \u001b[39m\u001b[39m{}\u001b[39;00m\u001b[39m\"\u001b[39m\u001b[39m.\u001b[39mformat((i\u001b[39m+\u001b[39m\u001b[39m1\u001b[39m)\u001b[39m*\u001b[39mstore_epoch, train_acc[i]))\n",
      "\u001b[1;32m/Users/eujeneyum/Desktop/UChicago_Courses/Q4/ML/final_project/cmsc353_nonvoter_project/models.ipynb Cell 29\u001b[0m in \u001b[0;36mtrain\u001b[0;34m(epochs, eta, store_epoch, lam, decay)\u001b[0m\n\u001b[1;32m     <a href='vscode-notebook-cell:/Users/eujeneyum/Desktop/UChicago_Courses/Q4/ML/final_project/cmsc353_nonvoter_project/models.ipynb#X56sZmlsZQ%3D%3D?line=44'>45</a>\u001b[0m \u001b[39mfor\u001b[39;00m i, x_i \u001b[39min\u001b[39;00m \u001b[39menumerate\u001b[39m(x):\n\u001b[1;32m     <a href='vscode-notebook-cell:/Users/eujeneyum/Desktop/UChicago_Courses/Q4/ML/final_project/cmsc353_nonvoter_project/models.ipynb#X56sZmlsZQ%3D%3D?line=45'>46</a>\u001b[0m     new_x \u001b[39m=\u001b[39m x[x_i]\u001b[39m.\u001b[39mvalues\u001b[39m.\u001b[39mreshape((\u001b[39m1\u001b[39m,x\u001b[39m.\u001b[39mshape[\u001b[39m0\u001b[39m]))        \n\u001b[0;32m---> <a href='vscode-notebook-cell:/Users/eujeneyum/Desktop/UChicago_Courses/Q4/ML/final_project/cmsc353_nonvoter_project/models.ipynb#X56sZmlsZQ%3D%3D?line=46'>47</a>\u001b[0m     lr\u001b[39m.\u001b[39;49msgd_update(new_x, y\u001b[39m.\u001b[39;49miloc[i], lam)\n\u001b[1;32m     <a href='vscode-notebook-cell:/Users/eujeneyum/Desktop/UChicago_Courses/Q4/ML/final_project/cmsc353_nonvoter_project/models.ipynb#X56sZmlsZQ%3D%3D?line=48'>49</a>\u001b[0m \u001b[39m# store prorgress for each store_epoch\u001b[39;00m\n\u001b[1;32m     <a href='vscode-notebook-cell:/Users/eujeneyum/Desktop/UChicago_Courses/Q4/ML/final_project/cmsc353_nonvoter_project/models.ipynb#X56sZmlsZQ%3D%3D?line=49'>50</a>\u001b[0m \u001b[39mif\u001b[39;00m epoch \u001b[39m%\u001b[39m store_epoch \u001b[39m==\u001b[39m \u001b[39m0\u001b[39m:\n",
      "\u001b[1;32m/Users/eujeneyum/Desktop/UChicago_Courses/Q4/ML/final_project/cmsc353_nonvoter_project/models.ipynb Cell 29\u001b[0m in \u001b[0;36mLogReg.sgd_update\u001b[0;34m(self, x_i, y, lam)\u001b[0m\n\u001b[1;32m     <a href='vscode-notebook-cell:/Users/eujeneyum/Desktop/UChicago_Courses/Q4/ML/final_project/cmsc353_nonvoter_project/models.ipynb#X56sZmlsZQ%3D%3D?line=44'>45</a>\u001b[0m \u001b[39m# compute pi\u001b[39;00m\n\u001b[1;32m     <a href='vscode-notebook-cell:/Users/eujeneyum/Desktop/UChicago_Courses/Q4/ML/final_project/cmsc353_nonvoter_project/models.ipynb#X56sZmlsZQ%3D%3D?line=45'>46</a>\u001b[0m \u001b[39mprint\u001b[39m(\u001b[39m\"\u001b[39m\u001b[39mxi\u001b[39m\u001b[39m\"\u001b[39m, x_i)\n\u001b[0;32m---> <a href='vscode-notebook-cell:/Users/eujeneyum/Desktop/UChicago_Courses/Q4/ML/final_project/cmsc353_nonvoter_project/models.ipynb#X56sZmlsZQ%3D%3D?line=46'>47</a>\u001b[0m pi \u001b[39m=\u001b[39m sigmoid(\u001b[39mself\u001b[39;49m\u001b[39m.\u001b[39;49mw\u001b[39m.\u001b[39;49mdot(x_i))\n\u001b[1;32m     <a href='vscode-notebook-cell:/Users/eujeneyum/Desktop/UChicago_Courses/Q4/ML/final_project/cmsc353_nonvoter_project/models.ipynb#X56sZmlsZQ%3D%3D?line=47'>48</a>\u001b[0m \u001b[39mprint\u001b[39m(\u001b[39m\"\u001b[39m\u001b[39mpi:\u001b[39m\u001b[39m\"\u001b[39m, pi)\n\u001b[1;32m     <a href='vscode-notebook-cell:/Users/eujeneyum/Desktop/UChicago_Courses/Q4/ML/final_project/cmsc353_nonvoter_project/models.ipynb#X56sZmlsZQ%3D%3D?line=49'>50</a>\u001b[0m action \u001b[39m=\u001b[39m \u001b[39m2\u001b[39m \u001b[39m*\u001b[39m lam \u001b[39m*\u001b[39m \u001b[39mself\u001b[39m\u001b[39m.\u001b[39mw[\u001b[39m1\u001b[39m:]\n",
      "\u001b[1;32m/Users/eujeneyum/Desktop/UChicago_Courses/Q4/ML/final_project/cmsc353_nonvoter_project/models.ipynb Cell 29\u001b[0m in \u001b[0;36msigmoid\u001b[0;34m(score, threshold)\u001b[0m\n\u001b[1;32m      <a href='vscode-notebook-cell:/Users/eujeneyum/Desktop/UChicago_Courses/Q4/ML/final_project/cmsc353_nonvoter_project/models.ipynb#X56sZmlsZQ%3D%3D?line=1'>2</a>\u001b[0m \u001b[39m\"\"\"\u001b[39;00m\n\u001b[1;32m      <a href='vscode-notebook-cell:/Users/eujeneyum/Desktop/UChicago_Courses/Q4/ML/final_project/cmsc353_nonvoter_project/models.ipynb#X56sZmlsZQ%3D%3D?line=2'>3</a>\u001b[0m \u001b[39mSigmoid function with a threshold\u001b[39;00m\n\u001b[1;32m      <a href='vscode-notebook-cell:/Users/eujeneyum/Desktop/UChicago_Courses/Q4/ML/final_project/cmsc353_nonvoter_project/models.ipynb#X56sZmlsZQ%3D%3D?line=3'>4</a>\u001b[0m \u001b[39m:param score: (float) A real valued number to convert into a number between 0 and 1\u001b[39;00m\n\u001b[0;32m   (...)\u001b[0m\n\u001b[1;32m      <a href='vscode-notebook-cell:/Users/eujeneyum/Desktop/UChicago_Courses/Q4/ML/final_project/cmsc353_nonvoter_project/models.ipynb#X56sZmlsZQ%3D%3D?line=6'>7</a>\u001b[0m \u001b[39m:return: (float) sigmoid function result.\u001b[39;00m\n\u001b[1;32m      <a href='vscode-notebook-cell:/Users/eujeneyum/Desktop/UChicago_Courses/Q4/ML/final_project/cmsc353_nonvoter_project/models.ipynb#X56sZmlsZQ%3D%3D?line=7'>8</a>\u001b[0m \u001b[39m\"\"\"\u001b[39;00m\n\u001b[1;32m      <a href='vscode-notebook-cell:/Users/eujeneyum/Desktop/UChicago_Courses/Q4/ML/final_project/cmsc353_nonvoter_project/models.ipynb#X56sZmlsZQ%3D%3D?line=8'>9</a>\u001b[0m \u001b[39m# TODO: Finish this function to restrict the value of the input score and return the output of applying the \u001b[39;00m\n\u001b[1;32m     <a href='vscode-notebook-cell:/Users/eujeneyum/Desktop/UChicago_Courses/Q4/ML/final_project/cmsc353_nonvoter_project/models.ipynb#X56sZmlsZQ%3D%3D?line=9'>10</a>\u001b[0m \u001b[39m#       sigmoid function to it (Please do not use external libraries)\u001b[39;00m\n\u001b[0;32m---> <a href='vscode-notebook-cell:/Users/eujeneyum/Desktop/UChicago_Courses/Q4/ML/final_project/cmsc353_nonvoter_project/models.ipynb#X56sZmlsZQ%3D%3D?line=11'>12</a>\u001b[0m \u001b[39mif\u001b[39;00m \u001b[39mabs\u001b[39m(score) \u001b[39m>\u001b[39m \u001b[39mabs\u001b[39m(threshold):\n\u001b[1;32m     <a href='vscode-notebook-cell:/Users/eujeneyum/Desktop/UChicago_Courses/Q4/ML/final_project/cmsc353_nonvoter_project/models.ipynb#X56sZmlsZQ%3D%3D?line=12'>13</a>\u001b[0m     score \u001b[39m=\u001b[39m math\u001b[39m.\u001b[39mcopysign(threshold,score)\n\u001b[1;32m     <a href='vscode-notebook-cell:/Users/eujeneyum/Desktop/UChicago_Courses/Q4/ML/final_project/cmsc353_nonvoter_project/models.ipynb#X56sZmlsZQ%3D%3D?line=14'>15</a>\u001b[0m sigmoid \u001b[39m=\u001b[39m \u001b[39m1\u001b[39m \u001b[39m/\u001b[39m (\u001b[39m1\u001b[39m \u001b[39m+\u001b[39m math\u001b[39m.\u001b[39mexp(\u001b[39m-\u001b[39mscore))\n",
      "\u001b[0;31mValueError\u001b[0m: The truth value of an array with more than one element is ambiguous. Use a.any() or a.all()"
     ]
    }
   ],
   "source": [
    "eta  = 1e-4\n",
    "epochs = 300\n",
    "store_epoch = 50\n",
    "train_acc, _ = train(epochs, eta, store_epoch)\n",
    "\n",
    "for i in range(len(train_acc)):\n",
    "    print(\"\\ntrain accuracy after {} epochs: {}\".format((i+1)*store_epoch, train_acc[i]))\n",
    "    #print(\"test accuracy after {} epochs: {}\".format((i+1)*store_epoch, test_acc[i]))\n"
   ]
  },
  {
   "cell_type": "code",
   "execution_count": null,
   "metadata": {},
   "outputs": [],
   "source": [
    "# Random Forest\n"
   ]
  },
  {
   "cell_type": "code",
   "execution_count": null,
   "metadata": {},
   "outputs": [],
   "source": [
    "# bootstrapping\n",
    "# aggregation (bagging)\n",
    "# trees will give \n",
    "# how many features to consider? sq root of total # of features; 119**(1/2) = ~11"
   ]
  },
  {
   "cell_type": "code",
   "execution_count": 87,
   "metadata": {},
   "outputs": [
    {
     "data": {
      "text/plain": [
       "(5836, 119)"
      ]
     },
     "execution_count": 87,
     "metadata": {},
     "output_type": "execute_result"
    }
   ],
   "source": [
    "X.shape"
   ]
  },
  {
   "cell_type": "markdown",
   "metadata": {},
   "source": [
    "<h4> Method 6 (beyond class): Random Forest"
   ]
  },
  {
   "cell_type": "code",
   "execution_count": 12,
   "metadata": {},
   "outputs": [],
   "source": [
    "import numpy as np\n",
    "from collections import Counter\n",
    "\n",
    "\n",
    "class Node:\n",
    "    '''\n",
    "    Helper class which implements a single tree node.\n",
    "    '''\n",
    "    def __init__(self, feature=None, threshold=None, data_left=None, data_right=None, gain=None, value=None):\n",
    "        self.feature = feature\n",
    "        self.threshold = threshold\n",
    "        self.data_left = data_left\n",
    "        self.data_right = data_right\n",
    "        self.gain = gain\n",
    "        self.value = value"
   ]
  },
  {
   "cell_type": "code",
   "execution_count": 13,
   "metadata": {},
   "outputs": [],
   "source": [
    "class DecisionTree:\n",
    "    '''\n",
    "    Class which implements a decision tree classifier algorithm.\n",
    "    '''\n",
    "    def __init__(self, min_samples_split=2, max_depth=5):\n",
    "        self.min_samples_split = min_samples_split\n",
    "        self.max_depth = max_depth\n",
    "        self.root = None\n",
    "        \n",
    "    @staticmethod\n",
    "    def _entropy(s):\n",
    "        '''\n",
    "        Helper function, calculates entropy from an array of integer values.\n",
    "        \n",
    "        :param s: list\n",
    "        :return: float, entropy value\n",
    "        '''\n",
    "        # Convert to integers to avoid runtime errors\n",
    "        counts = np.bincount(np.array(s, dtype=np.int64))\n",
    "        # Probabilities of each class label\n",
    "        percentages = counts / len(s)\n",
    "\n",
    "        # Caclulate entropy\n",
    "        entropy = 0\n",
    "        for pct in percentages:\n",
    "            if pct > 0:\n",
    "                entropy += pct * np.log2(pct)\n",
    "        return -entropy\n",
    "    \n",
    "    def _information_gain(self, parent, left_child, right_child):\n",
    "        '''\n",
    "        Helper function, calculates information gain from a parent and two child nodes.\n",
    "        \n",
    "        :param parent: list, the parent node\n",
    "        :param left_child: list, left child of a parent\n",
    "        :param right_child: list, right child of a parent\n",
    "        :return: float, information gain\n",
    "        '''\n",
    "        num_left = len(left_child) / len(parent)\n",
    "        num_right = len(right_child) / len(parent)\n",
    "        \n",
    "        # One-liner which implements the previously discussed formula\n",
    "        return self._entropy(parent) - (num_left * self._entropy(left_child) + num_right * self._entropy(right_child))\n",
    "    \n",
    "    def _best_split(self, X, y):\n",
    "        '''\n",
    "        Helper function, calculates the best split for given features and target\n",
    "        \n",
    "        :param X: np.array, features\n",
    "        :param y: np.array or list, target\n",
    "        :return: dict\n",
    "        '''\n",
    "        best_split = {}\n",
    "        best_info_gain = -1\n",
    "        n_rows, n_cols = X.shape\n",
    "        \n",
    "        # For every dataset feature\n",
    "        for f_idx in range(n_cols):\n",
    "            X_curr = X[:, f_idx]\n",
    "            # For every unique value of that feature\n",
    "            for threshold in np.unique(X_curr):\n",
    "                # Construct a dataset and split it to the left and right parts\n",
    "                # Left part includes records lower or equal to the threshold\n",
    "                # Right part includes records higher than the threshold\n",
    "                df = np.concatenate((X, y.reshape(1, -1).T), axis=1)\n",
    "                df_left = np.array([row for row in df if row[f_idx] <= threshold])\n",
    "                df_right = np.array([row for row in df if row[f_idx] > threshold])\n",
    "\n",
    "                # Do the calculation only if there's data in both subsets\n",
    "                if len(df_left) > 0 and len(df_right) > 0:\n",
    "                    # Obtain the value of the target variable for subsets\n",
    "                    y = df[:, -1]\n",
    "                    y_left = df_left[:, -1]\n",
    "                    y_right = df_right[:, -1]\n",
    "\n",
    "                    # Caclulate the information gain and save the split parameters\n",
    "                    # if the current split if better then the previous best\n",
    "                    gain = self._information_gain(y, y_left, y_right)\n",
    "                    if gain > best_info_gain:\n",
    "                        best_split = {\n",
    "                            'feature_index': f_idx,\n",
    "                            'threshold': threshold,\n",
    "                            'df_left': df_left,\n",
    "                            'df_right': df_right,\n",
    "                            'gain': gain\n",
    "                        }\n",
    "                        best_info_gain = gain\n",
    "        return best_split\n",
    "    \n",
    "    def _build(self, X, y, depth=0):\n",
    "        '''\n",
    "        Helper recursive function, used to build a decision tree from the input data.\n",
    "        \n",
    "        :param X: np.array, features\n",
    "        :param y: np.array or list, target\n",
    "        :param depth: current depth of a tree, used as a stopping criteria\n",
    "        :return: Node\n",
    "        '''\n",
    "        n_rows, n_cols = X.shape\n",
    "        \n",
    "        # Check to see if a node should be leaf node\n",
    "        if n_rows >= self.min_samples_split and depth <= self.max_depth:\n",
    "            # Get the best split\n",
    "            best = self._best_split(X, y)\n",
    "            # If the split isn't pure\n",
    "            if best['gain'] > 0:\n",
    "                # Build a tree on the left\n",
    "                left = self._build(\n",
    "                    X=best['df_left'][:, :-1], \n",
    "                    y=best['df_left'][:, -1], \n",
    "                    depth=depth + 1\n",
    "                )\n",
    "                right = self._build(\n",
    "                    X=best['df_right'][:, :-1], \n",
    "                    y=best['df_right'][:, -1], \n",
    "                    depth=depth + 1\n",
    "                )\n",
    "                return Node(\n",
    "                    feature=best['feature_index'], \n",
    "                    threshold=best['threshold'], \n",
    "                    data_left=left, \n",
    "                    data_right=right, \n",
    "                    gain=best['gain']\n",
    "                )\n",
    "        # Leaf node - value is the most common target value \n",
    "        return Node(\n",
    "            value=Counter(y).most_common(1)[0][0]\n",
    "        )\n",
    "    \n",
    "    def fit(self, X, y):\n",
    "        '''\n",
    "        Function used to train a decision tree classifier model.\n",
    "        \n",
    "        :param X: np.array, features\n",
    "        :param y: np.array or list, target\n",
    "        :return: None\n",
    "        '''\n",
    "        # Call a recursive function to build the tree\n",
    "        self.root = self._build(X, y)\n",
    "        \n",
    "    def _predict(self, x, tree):\n",
    "        '''\n",
    "        Helper recursive function, used to predict a single instance (tree traversal).\n",
    "        \n",
    "        :param x: single observation\n",
    "        :param tree: built tree\n",
    "        :return: float, predicted class\n",
    "        '''\n",
    "        # Leaf node\n",
    "        if tree.value != None:\n",
    "            return tree.value\n",
    "        feature_value = x[tree.feature]\n",
    "        \n",
    "        # Go to the left\n",
    "        if feature_value <= tree.threshold:\n",
    "            return self._predict(x=x, tree=tree.data_left)\n",
    "        \n",
    "        # Go to the right\n",
    "        if feature_value > tree.threshold:\n",
    "            return self._predict(x=x, tree=tree.data_right)\n",
    "        \n",
    "    def predict(self, X):\n",
    "        '''\n",
    "        Function used to classify new instances.\n",
    "        \n",
    "        :param X: np.array, features\n",
    "        :return: np.array, predicted classes\n",
    "        '''\n",
    "        # Call the _predict() function for every observation\n",
    "        return [self._predict(x, self.root) for x in X]"
   ]
  },
  {
   "cell_type": "code",
   "execution_count": 14,
   "metadata": {},
   "outputs": [],
   "source": [
    "class RandomForest:\n",
    "    '''\n",
    "    A class that implements Random Forest algorithm from scratch.\n",
    "    '''\n",
    "    def __init__(self, num_trees=25, min_samples_split=2, max_depth=5):\n",
    "        self.num_trees = num_trees\n",
    "        self.min_samples_split = min_samples_split\n",
    "        self.max_depth = max_depth\n",
    "        # Will store individually trained decision trees\n",
    "        self.decision_trees = []\n",
    "        \n",
    "    @staticmethod\n",
    "    def _sample(X, y):\n",
    "        '''\n",
    "        Helper function used for boostrap sampling.\n",
    "        \n",
    "        :param X: np.array, features\n",
    "        :param y: np.array, target\n",
    "        :return: tuple (sample of features, sample of target)\n",
    "        '''\n",
    "        n_rows, n_cols = X.shape\n",
    "        # Sample with replacement\n",
    "        samples = np.random.choice(a=n_rows, size=n_rows, replace=True)\n",
    "        return X[samples], y[samples]\n",
    "        \n",
    "    def fit(self, X, y):\n",
    "        '''\n",
    "        Trains a Random Forest classifier.\n",
    "        \n",
    "        :param X: np.array, features\n",
    "        :param y: np.array, target\n",
    "        :return: None\n",
    "        '''\n",
    "        # Reset\n",
    "        if len(self.decision_trees) > 0:\n",
    "            self.decision_trees = []\n",
    "            \n",
    "        # Build each tree of the forest\n",
    "        num_built = 0\n",
    "        while num_built < self.num_trees:\n",
    "            try:\n",
    "                clf = DecisionTree(\n",
    "                    min_samples_split=self.min_samples_split,\n",
    "                    max_depth=self.max_depth\n",
    "                )\n",
    "                # Obtain data sample\n",
    "                _X, _y = self._sample(X, y)\n",
    "                # Train\n",
    "                clf.fit(_X, _y)\n",
    "                # Save the classifier\n",
    "                self.decision_trees.append(clf)\n",
    "                num_built += 1\n",
    "            except Exception as e:\n",
    "                continue\n",
    "    \n",
    "    def predict(self, X):\n",
    "        '''\n",
    "        Predicts class labels for new data instances.\n",
    "        \n",
    "        :param X: np.array, new instances to predict\n",
    "        :return: \n",
    "        '''\n",
    "        # Make predictions with every tree in the forest\n",
    "        y = []\n",
    "        for tree in self.decision_trees:\n",
    "            y.append(tree.predict(X))\n",
    "        \n",
    "        # Reshape so we can find the most common value\n",
    "        y = np.swapaxes(a=y, axis1=0, axis2=1)\n",
    "        \n",
    "        # Use majority voting for the final prediction\n",
    "        predictions = []\n",
    "        for preds in y:\n",
    "            counter = Counter(preds)\n",
    "            predictions.append(counter.most_common(1)[0][0])\n",
    "        return predictions"
   ]
  },
  {
   "cell_type": "code",
   "execution_count": 154,
   "metadata": {},
   "outputs": [
    {
     "data": {
      "text/plain": [
       "1.0"
      ]
     },
     "execution_count": 154,
     "metadata": {},
     "output_type": "execute_result"
    }
   ],
   "source": [
    "# testing on iris\n",
    "from sklearn.datasets import load_iris\n",
    "\n",
    "iris = load_iris()\n",
    "\n",
    "X = iris['data']\n",
    "y = iris['target']\n",
    "X_train_iris, X_test_iris, y_train_iris, y_test_iris = train_test_split(X, y, test_size=0.2, random_state=42)\n",
    "\n",
    "model = RandomForest()\n",
    "model.fit(X_train_iris, y_train_iris)\n",
    "preds_iris = model.predict(X_test_iris)\n",
    "\n",
    "from sklearn.metrics import accuracy_score\n",
    "accuracy_score(y_test_iris, preds_iris)"
   ]
  },
  {
   "cell_type": "code",
   "execution_count": 15,
   "metadata": {},
   "outputs": [],
   "source": [
    "model = RandomForest()\n",
    "model.fit(X_train.to_numpy(), y_train.to_numpy())\n",
    "#preds = model.predict(X_test[0:50].to_numpy())"
   ]
  },
  {
   "cell_type": "code",
   "execution_count": 16,
   "metadata": {},
   "outputs": [],
   "source": [
    "preds = np.rint(model.predict(X_test.to_numpy()))"
   ]
  },
  {
   "cell_type": "code",
   "execution_count": 207,
   "metadata": {},
   "outputs": [
    {
     "data": {
      "text/plain": [
       "array([2., 2., 3., ..., 2., 3., 3.])"
      ]
     },
     "execution_count": 207,
     "metadata": {},
     "output_type": "execute_result"
    }
   ],
   "source": [
    "preds"
   ]
  },
  {
   "cell_type": "code",
   "execution_count": 19,
   "metadata": {},
   "outputs": [
    {
     "data": {
      "text/plain": [
       "0.639554794520548"
      ]
     },
     "execution_count": 19,
     "metadata": {},
     "output_type": "execute_result"
    }
   ],
   "source": [
    "accuracy(preds, y_test)"
   ]
  },
  {
   "cell_type": "code",
   "execution_count": null,
   "metadata": {},
   "outputs": [],
   "source": [
    "# choose columns we find important and see if that affects accuracy at all????  "
   ]
  }
 ],
 "metadata": {
  "kernelspec": {
   "display_name": "Python 3 (ipykernel)",
   "language": "python",
   "name": "python3"
  },
  "language_info": {
   "codemirror_mode": {
    "name": "ipython",
    "version": 3
   },
   "file_extension": ".py",
   "mimetype": "text/x-python",
   "name": "python",
   "nbconvert_exporter": "python",
   "pygments_lexer": "ipython3",
   "version": "3.9.13"
  },
  "vscode": {
   "interpreter": {
    "hash": "aee8b7b246df8f9039afb4144a1f6fd8d2ca17a180786b69acc140d282b71a49"
   }
  }
 },
 "nbformat": 4,
 "nbformat_minor": 2
}
